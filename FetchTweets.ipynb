{
  "nbformat": 4,
  "nbformat_minor": 0,
  "metadata": {
    "colab": {
      "name": "FetchTweets.ipynb",
      "provenance": [],
      "collapsed_sections": []
    },
    "kernelspec": {
      "name": "python3",
      "display_name": "Python 3"
    },
    "language_info": {
      "name": "python"
    }
  },
  "cells": [
    {
      "cell_type": "markdown",
      "metadata": {
        "id": "n1ictVdkBRr7"
      },
      "source": [
        "# Fetch Tweets with given Hashtag"
      ]
    },
    {
      "cell_type": "code",
      "metadata": {
        "id": "rJGPQbVv_UX3"
      },
      "source": [
        "import tweepy\n",
        "import csv\n",
        "import pandas as pd\n",
        "import sys\n",
        "\n",
        "# API credentials here\n",
        "consumer_key = ''\n",
        "consumer_secret = ''\n",
        "access_token = ''\n",
        "access_token_secret = ''\n",
        "\n",
        "auth = tweepy.OAuthHandler(consumer_key, consumer_secret)\n",
        "auth.set_access_token(access_token, access_token_secret)\n",
        "api = tweepy.API(auth,wait_on_rate_limit=True,wait_on_rate_limit_notify=True)\n",
        "\n",
        "# Search word/hashtag value \n",
        "HashValue = input(\"Enter the hashtag: \")\n",
        "\n",
        "StartDate = input(\"Enter the start date in this format yyyy-mm-dd: \")\n",
        "\n",
        "number_of_tweets = int(input(\"Enter the number: \"))\n",
        "\n",
        "\n",
        "# Open/Create a file to append data\n",
        "csvFile = open(HashValue+'.csv', 'a')\n",
        "\n",
        "#Use csv Writer\n",
        "csvWriter = csv.writer(csvFile)\n",
        "\n",
        "for tweet in tweepy.Cursor(api.search,q=HashValue,count=20,lang=\"en\",since=StartDate, tweet_mode='extended', retry_count = 5, retry_delay = 5).items(number_of_tweets):\n",
        "    print(tweet.created_at, tweet.user.location, tweet.user.screen_name, tweet.user.verified,tweet.full_text)\n",
        "    csvWriter.writerow([tweet.created_at,tweet.user.location,tweet.user.screen_name,tweet.user.verified,tweet.full_text.encode('utf-8')])\n",
        "\n",
        "print (\"Scraping finished and saved to \"+HashValue+\".csv\")\n",
        "#sys.exit()"
      ],
      "execution_count": 3,
      "outputs": []
    },
    {
      "cell_type": "markdown",
      "metadata": {
        "id": "eVb-smDUBZMF"
      },
      "source": [
        "# Fetch Images/Memes From Twitter"
      ]
    },
    {
      "cell_type": "code",
      "metadata": {
        "id": "SFBPPpESAALk"
      },
      "source": [
        "import tweepy\n",
        "import csv\n",
        "import pandas as pd\n",
        "import sys\n",
        "\n",
        "# API credentials here\n",
        "consumer_key = ''\n",
        "consumer_secret = ''\n",
        "access_token = ''\n",
        "access_token_secret = ''\n",
        "\n",
        "auth = tweepy.OAuthHandler(consumer_key, consumer_secret)\n",
        "auth.set_access_token(access_token, access_token_secret)\n",
        "api = tweepy.API(auth,wait_on_rate_limit=True,wait_on_rate_limit_notify=True)\n",
        "\n",
        "# Search word/hashtag value \n",
        "HashValue = \"TalibanTerror\"\n",
        "\n",
        "# search start date value. the search will start from this date to the current date.\n",
        "StartDate = \"2021-08-21\"\n",
        "\n",
        "# getting the search word/hashtag and date range from user\n",
        "#HashValue = input(\"Enter the hashtag you want the tweets to be downloaded for: \")\n",
        "#StartDate = input(\"Enter the start date in this format yyyy-mm-dd: \")\n",
        "\n",
        "# Open/Create a file to append data\n",
        "csvFile = open(HashValue+'.csv', 'a')\n",
        "\n",
        "#Use csv Writer\n",
        "csvWriter = csv.writer(csvFile)\n",
        "df = pd.DataFrame(columns = ['image_url', 'account_name','text_on_tweet', ])\n",
        "\n",
        "for tweet in tweepy.Cursor(api.search,q=HashValue,count=20,lang=\"en\",since=StartDate, tweet_mode='extended', retry_count = 5, retry_delay = 5, include_entities=True).items(200):\n",
        "  if 'media' in tweet.entities:\n",
        "        for image in  tweet.entities['media']:\n",
        "            #print(image['media_url'],tweet.user.screen_name, tweet.full_text.encode('utf-8') )\n",
        "            df = df.append({'image_url' : image['media_url'] , 'account_name' : tweet.user.screen_name , 'text_on_tweet' : tweet.full_text.encode('utf-8')}, ignore_index = True)\n",
        "  #csvWriter.writerow([tweet.created_at,tweet.user.location,tweet.user.screen_name,tweet.user.verified,tweet.full_text.encode('utf-8')])\n",
        "  \n",
        "  \n",
        "   \n",
        "  #print(tweet.created_at, tweet.user.location, tweet.user.screen_name, tweet.user.verified,tweet.full_text)\n",
        "  #csvWriter.writerow([tweet.created_at,tweet.user.location,tweet.user.screen_name,tweet.user.verified,tweet.full_text.encode('utf-8')])\n",
        "\n",
        "#print (\"Scraping finished and saved to \"+HashValue+\".csv\")\n",
        "#sys.exit()"
      ],
      "execution_count": 5,
      "outputs": []
    },
    {
      "cell_type": "code",
      "metadata": {
        "colab": {
          "base_uri": "https://localhost:8080/",
          "height": 202
        },
        "id": "i5e-0KFkDbxh",
        "outputId": "44e119ea-17c9-4fa9-fc82-aa8410ede3a9"
      },
      "source": [
        "df.head()"
      ],
      "execution_count": 7,
      "outputs": [
        {
          "output_type": "execute_result",
          "data": {
            "text/html": [
              "<div>\n",
              "<style scoped>\n",
              "    .dataframe tbody tr th:only-of-type {\n",
              "        vertical-align: middle;\n",
              "    }\n",
              "\n",
              "    .dataframe tbody tr th {\n",
              "        vertical-align: top;\n",
              "    }\n",
              "\n",
              "    .dataframe thead th {\n",
              "        text-align: right;\n",
              "    }\n",
              "</style>\n",
              "<table border=\"1\" class=\"dataframe\">\n",
              "  <thead>\n",
              "    <tr style=\"text-align: right;\">\n",
              "      <th></th>\n",
              "      <th>image_url</th>\n",
              "      <th>account_name</th>\n",
              "      <th>text_on_tweet</th>\n",
              "    </tr>\n",
              "  </thead>\n",
              "  <tbody>\n",
              "    <tr>\n",
              "      <th>0</th>\n",
              "      <td>http://pbs.twimg.com/ext_tw_video_thumb/142878...</td>\n",
              "      <td>kumar_gotem</td>\n",
              "      <td>b'RT @ASQR_651: #TalibanTerror\\n\\nTaliban mili...</td>\n",
              "    </tr>\n",
              "    <tr>\n",
              "      <th>1</th>\n",
              "      <td>http://pbs.twimg.com/media/E9S7BIMVcAI2Ey1.jpg</td>\n",
              "      <td>mariosbstn</td>\n",
              "      <td>b'RT @HeyItsRohantic: The sole meaning of life...</td>\n",
              "    </tr>\n",
              "    <tr>\n",
              "      <th>2</th>\n",
              "      <td>http://pbs.twimg.com/media/E9Tgwb3VIAU-PoU.jpg</td>\n",
              "      <td>shweta_sahi</td>\n",
              "      <td>b'RT @Jyotitha_0811: #TalibanTerror\\nLook and ...</td>\n",
              "    </tr>\n",
              "    <tr>\n",
              "      <th>3</th>\n",
              "      <td>http://pbs.twimg.com/media/E9UgAcZVcAIcp-P.jpg</td>\n",
              "      <td>Mountain_Feel</td>\n",
              "      <td>b'#BreakingNews \\n9 #Talibani surrendered befo...</td>\n",
              "    </tr>\n",
              "    <tr>\n",
              "      <th>4</th>\n",
              "      <td>http://pbs.twimg.com/media/E9S7BIMVcAI2Ey1.jpg</td>\n",
              "      <td>DuttaRubai1</td>\n",
              "      <td>b'RT @HeyItsRohantic: The sole meaning of life...</td>\n",
              "    </tr>\n",
              "  </tbody>\n",
              "</table>\n",
              "</div>"
            ],
            "text/plain": [
              "                                           image_url  ...                                      text_on_tweet\n",
              "0  http://pbs.twimg.com/ext_tw_video_thumb/142878...  ...  b'RT @ASQR_651: #TalibanTerror\\n\\nTaliban mili...\n",
              "1     http://pbs.twimg.com/media/E9S7BIMVcAI2Ey1.jpg  ...  b'RT @HeyItsRohantic: The sole meaning of life...\n",
              "2     http://pbs.twimg.com/media/E9Tgwb3VIAU-PoU.jpg  ...  b'RT @Jyotitha_0811: #TalibanTerror\\nLook and ...\n",
              "3     http://pbs.twimg.com/media/E9UgAcZVcAIcp-P.jpg  ...  b'#BreakingNews \\n9 #Talibani surrendered befo...\n",
              "4     http://pbs.twimg.com/media/E9S7BIMVcAI2Ey1.jpg  ...  b'RT @HeyItsRohantic: The sole meaning of life...\n",
              "\n",
              "[5 rows x 3 columns]"
            ]
          },
          "metadata": {},
          "execution_count": 7
        }
      ]
    },
    {
      "cell_type": "code",
      "metadata": {
        "colab": {
          "base_uri": "https://localhost:8080/"
        },
        "id": "9LzXS47vDmv4",
        "outputId": "857bda0b-fe79-45e0-cbaf-8484a0efb98d"
      },
      "source": [
        "!pip install wget"
      ],
      "execution_count": 8,
      "outputs": [
        {
          "output_type": "stream",
          "text": [
            "Collecting wget\n",
            "  Downloading wget-3.2.zip (10 kB)\n",
            "Building wheels for collected packages: wget\n",
            "  Building wheel for wget (setup.py) ... \u001b[?25l\u001b[?25hdone\n",
            "  Created wheel for wget: filename=wget-3.2-py3-none-any.whl size=9672 sha256=aacbea1e9822c319bb40476ee8d73a9ca4e618bdd0c708e3f047369aaa2ff5f9\n",
            "  Stored in directory: /root/.cache/pip/wheels/a1/b6/7c/0e63e34eb06634181c63adacca38b79ff8f35c37e3c13e3c02\n",
            "Successfully built wget\n",
            "Installing collected packages: wget\n",
            "Successfully installed wget-3.2\n"
          ],
          "name": "stdout"
        }
      ]
    },
    {
      "cell_type": "code",
      "metadata": {
        "colab": {
          "base_uri": "https://localhost:8080/"
        },
        "id": "3tFdIS5iDt90",
        "outputId": "d1660903-2c86-4cc3-8c94-84db6d061b01"
      },
      "source": [
        "#Downloading image \n",
        "import wget\n",
        "\n",
        "for i in df[\"image_url\"]:\n",
        "    image_url = i\n",
        "    image_filename = wget.download(image_url)\n",
        "    #print('Image Successfully Downloaded: ', image_filename)\n",
        "print(\"Downloaded\")"
      ],
      "execution_count": 14,
      "outputs": [
        {
          "output_type": "stream",
          "text": [
            "Downloaded\n"
          ],
          "name": "stdout"
        }
      ]
    },
    {
      "cell_type": "code",
      "metadata": {
        "colab": {
          "base_uri": "https://localhost:8080/"
        },
        "id": "J6qStW0yDzY5",
        "outputId": "81512a47-6969-4120-b6d3-9a8cf0951b05"
      },
      "source": [
        "#Moving image to a specific folder, here the folder name is tweet_image_download\n",
        "import subprocess\n",
        "import os\n",
        "import shutil\n",
        "\n",
        "print(\"Copying start\")\n",
        "print(\"Transfering.....\")\n",
        "directory = \"/content/\"\n",
        "subprocess.call(['chmod', '-R', '+w', '/content/tweet_image_download'])\n",
        "print(\"permission change\")\n",
        "folder = \"/content/tweet_image_download\"\n",
        "for filename in os.listdir(directory):\n",
        "  if filename.endswith(\".jpg\") or filename.endswith(\".png\"):\n",
        "    print(os.path.join(directory, filename))\n",
        "    shutil.move(filename, folder)\n",
        "  else:\n",
        "      continue\n",
        "print(\"Moving done\")"
      ],
      "execution_count": 15,
      "outputs": [
        {
          "output_type": "stream",
          "text": [
            "Copying start\n",
            "Transfering.....\n",
            "permission change\n",
            "/content/E9SYQ8kVEAcq_wD (1).jpg\n",
            "/content/E9UX1QzUUAcVHwg (2).jpg\n",
            "/content/E9SYQ8kVEAcq_wD (5).jpg\n",
            "/content/E9UbJQaVcAYGZdU.jpg\n",
            "/content/E9SyGFSVcAIn8bE.jpg\n",
            "/content/Tq4XLIuNUuvw0xzK.jpg\n",
            "/content/E9SSR9-VgAEUXSZ.jpg\n",
            "/content/E9SYQ8kVEAcq_wD (6).jpg\n",
            "/content/E9UfDn9VIAYrx1C.jpg\n",
            "/content/E9QSUefVIAI1I_N.jpg\n",
            "/content/ucy8FfPSctBHiEQr.jpg\n",
            "/content/3RYtDmKiffdwFde5.jpg\n",
            "/content/E9S7BIMVcAI2Ey1 (4).jpg\n",
            "/content/E9UgAcZVcAIcp-P.jpg\n",
            "/content/E9UeGEMVkAIDDkf.jpg\n",
            "/content/E9UcmdoWQAIXS9g.jpg\n",
            "/content/E9S1ys8UYA8fROZ (4).jpg\n",
            "/content/E9UcdXlVoAYaj4v.jpg\n",
            "/content/E9S7BIMVcAI2Ey1 (2).jpg\n",
            "/content/E9UX1QzUUAcVHwg (3).jpg\n",
            "/content/E9SYQ8kVEAcq_wD (4).jpg\n",
            "/content/Johm44SKTsAGD8XS.jpg\n",
            "/content/E9UX1QzUUAcVHwg (1).jpg\n",
            "/content/E9ShswkVoAMgpMV (1).jpg\n",
            "/content/E9S1ys8UYA8fROZ.jpg\n",
            "/content/E9S1ys8UYA8fROZ (5).jpg\n",
            "/content/E9UcZhXVoAA-GQg.jpg\n",
            "/content/lNtxOSSCKTTNSatp (1).jpg\n",
            "/content/VHGSY67_rCgnFX2u (1).jpg\n",
            "/content/E9Tgwb3VIAU-PoU.jpg\n",
            "/content/VHGSY67_rCgnFX2u.jpg\n",
            "/content/E9TTtwjVEAYXtVr.jpg\n",
            "/content/E9TTtwjVEAYXtVr (2).jpg\n",
            "/content/E9UfJ7cVoAECpE-.jpg\n",
            "/content/E9S1ys8UYA8fROZ (1).jpg\n",
            "/content/E9SYQ8kVEAcq_wD.jpg\n",
            "/content/E9SYQ8kVEAcq_wD (3).jpg\n",
            "/content/E9TukWqXEAAPtp0.jpg\n",
            "/content/E9UdAmQVgAYUeSX.jpg\n",
            "/content/E9S7BIMVcAI2Ey1 (1).jpg\n",
            "/content/E9UX1QzUUAcVHwg.jpg\n",
            "/content/H-9NCfvuIXRNkiP6.jpg\n",
            "/content/E9SefB3XEAUhYdJ.jpg\n",
            "/content/lNtxOSSCKTTNSatp.jpg\n",
            "/content/E9S7BIMVcAI2Ey1.jpg\n",
            "/content/E9TrIGdVcA8Af71.jpg\n",
            "/content/E9SYQ8kVEAcq_wD (2).jpg\n",
            "/content/E9TrIGdVcA8Af71 (1).jpg\n",
            "/content/E9TTtwjVEAYXtVr (1).jpg\n",
            "/content/E9Tgwb3VIAU-PoU (1).jpg\n",
            "/content/E9Tgwb3VIAU-PoU (2).jpg\n",
            "/content/E9S7BIMVcAI2Ey1 (5).jpg\n",
            "/content/E9ShswkVoAMgpMV.jpg\n",
            "/content/E9SuqOKUYA4Mcty.jpg\n",
            "/content/E9UX1QzUUAcVHwg (4).jpg\n",
            "/content/E9S1ys8UYA8fROZ (2).jpg\n",
            "/content/E9S1ys8UYA8fROZ (3).jpg\n",
            "/content/E9SuqOKUYA4Mcty (1).jpg\n",
            "/content/GicHFdncKgcG8XQL.jpg\n",
            "/content/E9UbigLVUAknkzk.jpg\n",
            "/content/E9S7BIMVcAI2Ey1 (3).jpg\n",
            "copying done\n"
          ],
          "name": "stdout"
        }
      ]
    },
    {
      "cell_type": "code",
      "metadata": {
        "id": "Yu6OCU-rEI3z"
      },
      "source": [
        ""
      ],
      "execution_count": null,
      "outputs": []
    }
  ]
}